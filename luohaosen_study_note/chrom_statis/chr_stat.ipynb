{
 "cells": [
  {
   "cell_type": "markdown",
   "metadata": {},
   "source": [
    "- Main Program"
   ]
  },
  {
   "cell_type": "code",
   "execution_count": 53,
   "metadata": {},
   "outputs": [
    {
     "data": {
      "text/plain": [
       "{'chr1': 0,\n",
       " 'chr2': 1,\n",
       " 'chr3': 0,\n",
       " 'chr4': 0,\n",
       " 'chr5': 0,\n",
       " 'chr6': 0,\n",
       " 'chr7': 1,\n",
       " 'chr8': 0,\n",
       " 'chr9': 0,\n",
       " 'chr10': 1,\n",
       " 'chr11': 0,\n",
       " 'chr12': 1,\n",
       " 'chr13': 0,\n",
       " 'chr14': 0,\n",
       " 'chr15': 0,\n",
       " 'chr16': 0,\n",
       " 'chr17': 0,\n",
       " 'chr18': 2,\n",
       " 'chr19': 0,\n",
       " 'chr20': 0,\n",
       " 'chr21': 0,\n",
       " 'chr22': 0,\n",
       " 'chrX': 0,\n",
       " 'chrY': 0,\n",
       " 'total': 6}"
      ]
     },
     "execution_count": 53,
     "metadata": {},
     "output_type": "execute_result"
    }
   ],
   "source": [
    "import pandas as pd\n",
    "import re\n",
    "\n",
    "\n",
    "input_file = './origin.xlsx'\n",
    "\n",
    "data = pd.read_excel(input_file)\n",
    "origin_data = data['result_raw']\n",
    "\n",
    "# 染色体:数目\n",
    "dict_chr_num = dict(zip(['chr' + str(i) for i in list(range(1,23))] + ['chrX','chrY','total'], [0]*25))\n",
    "for line in origin_data:\n",
    "    list_cyto = re.split(';', line)\n",
    "    for i in range(len(list_cyto)):\n",
    "        pattern_re = re.search(r'[+-](\\d+){', string=list_cyto[i], flags=0)\n",
    "        digit = pattern_re.group(1) if pattern_re else 0 \n",
    "        if pattern_re:\n",
    "            chr_format_index = 'chr' + str(digit)\n",
    "            dict_chr_num[chr_format_index] += 1\n",
    "            dict_chr_num['total'] += 1\n",
    "        else:\n",
    "            pass\n",
    "\n",
    "dict_chr_num\n",
    "    "
   ]
  },
  {
   "cell_type": "markdown",
   "metadata": {},
   "source": [
    "- 下面仅作测试模块"
   ]
  },
  {
   "cell_type": "code",
   "execution_count": 46,
   "metadata": {},
   "outputs": [
    {
     "data": {
      "text/plain": [
       "0                                                46,XX\n",
       "1    46,XX; +10{q25.1->q25.1(4.0Mb×3,mos[30.13%])};...\n",
       "2    46,XX; +2{p25.3->p25.1(6.0Mb×3,mos[17.35%])}; ...\n",
       "3        46,XX; +7{q11.22->q21.11(7.0Mb×3,mos[28.4%])}\n",
       "Name: result_raw, dtype: object"
      ]
     },
     "execution_count": 46,
     "metadata": {},
     "output_type": "execute_result"
    }
   ],
   "source": [
    "data = pd.read_excel(input_file)\n",
    "\n",
    "origin_data = data['result_raw']\n",
    "origin_data"
   ]
  },
  {
   "cell_type": "code",
   "execution_count": 47,
   "metadata": {},
   "outputs": [
    {
     "data": {
      "text/plain": [
       "{'chr1': 0,\n",
       " 'chr2': 0,\n",
       " 'chr3': 0,\n",
       " 'chr4': 0,\n",
       " 'chr5': 0,\n",
       " 'chr6': 0,\n",
       " 'chr7': 0,\n",
       " 'chr8': 0,\n",
       " 'chr9': 0,\n",
       " 'chr10': 0,\n",
       " 'chr11': 0,\n",
       " 'chr12': 0,\n",
       " 'chr13': 0,\n",
       " 'chr14': 0,\n",
       " 'chr15': 0,\n",
       " 'chr16': 0,\n",
       " 'chr17': 0,\n",
       " 'chr18': 0,\n",
       " 'chr19': 0,\n",
       " 'chr20': 0,\n",
       " 'chr21': 0,\n",
       " 'chr22': 0,\n",
       " 'chrX': 0,\n",
       " 'chrY': 0,\n",
       " 'total': 0}"
      ]
     },
     "execution_count": 47,
     "metadata": {},
     "output_type": "execute_result"
    }
   ],
   "source": [
    "dict_chr_num = dict(zip(['chr' + str(i) for i in list(range(1,23))] + ['chrX','chrY','total'], [0]*25))\n",
    "dict_chr_num"
   ]
  },
  {
   "cell_type": "code",
   "execution_count": 7,
   "metadata": {},
   "outputs": [
    {
     "name": "stdout",
     "output_type": "stream",
     "text": [
      "['46,XX']\n",
      "['46,XX', ' +10{q25.1->q25.1(4.0Mb×3,mos[30.13%])}', ' +18{×3,mos[38.63%]}']\n",
      "['46,XX', ' +2{p25.3->p25.1(6.0Mb×3,mos[17.35%])}', ' +12{q24.31->q24.33(7.0Mb×3,mos[21.92%])}', ' +18{×3,mos[23.84%]}']\n",
      "['46,XX', ' +7{q11.22->q21.11(7.0Mb×3,mos[28.4%])}']\n"
     ]
    }
   ],
   "source": [
    "import pandas as pd\n",
    "import re\n",
    "\n",
    "\n",
    "input_file = './origin.xlsx'\n",
    "\n",
    "data = pd.read_excel(input_file)\n",
    "origin_data = data['result_raw']\n",
    "\n",
    "# 染色体:数目\n",
    "dict_chr_num = dict(zip(['chr' + str(i) for i in list(range(1,23)) + ['chrX','chrY']], [0]*24))\n",
    "for line in origin_data:\n",
    "    list_cyto = re.split(';', line)\n",
    "    print(list_cyto)"
   ]
  },
  {
   "cell_type": "code",
   "execution_count": 6,
   "metadata": {},
   "outputs": [
    {
     "data": {
      "text/plain": [
       "0                                                46,XX\n",
       "1    46,XX; +10{q25.1->q25.1(4.0Mb×3,mos[30.13%])};...\n",
       "2    46,XX; +2{p25.3->p25.1(6.0Mb×3,mos[17.35%])}; ...\n",
       "3        46,XX; +7{q11.22->q21.11(7.0Mb×3,mos[28.4%])}\n",
       "Name: result_raw, dtype: object"
      ]
     },
     "execution_count": 6,
     "metadata": {},
     "output_type": "execute_result"
    }
   ],
   "source": [
    "import pandas as pd\n",
    "import re\n",
    "\n",
    "\n",
    "input_file = './origin.xlsx'\n",
    "\n",
    "data = pd.read_excel(input_file)\n",
    "origin_data = data['result_raw']\n",
    "origin_data\n",
    "# # 染色体:数目\n",
    "# dict_chr_num = dict(zip(['chr' + str(i) for i in list(range(1,23))] + ['chrX','chrY','total'], [0]*25))\n",
    "# for line in origin_data:\n",
    "#     list_cyto = re.split(';', line)\n",
    "#     for i in range(len(list_cyto)):\n",
    "#         print(list_cyto[i])"
   ]
  },
  {
   "cell_type": "code",
   "execution_count": 49,
   "metadata": {},
   "outputs": [
    {
     "name": "stdout",
     "output_type": "stream",
     "text": [
      "10\n"
     ]
    }
   ],
   "source": [
    "string = '+10{q25.1->q25.1(4.0Mb×3,mos[30.13%])}'\n",
    "digit_re = re.search(r'[+-](\\d+){', string=string, flags=0)\n",
    "print(digit_re.group(1))"
   ]
  },
  {
   "cell_type": "code",
   "execution_count": 54,
   "metadata": {},
   "outputs": [
    {
     "data": {
      "text/plain": [
       "['chr1',\n",
       " 'chr2',\n",
       " 'chr3',\n",
       " 'chr4',\n",
       " 'chr5',\n",
       " 'chr6',\n",
       " 'chr7',\n",
       " 'chr8',\n",
       " 'chr9',\n",
       " 'chr10',\n",
       " 'chr11',\n",
       " 'chr12',\n",
       " 'chr13',\n",
       " 'chr14',\n",
       " 'chr15',\n",
       " 'chr16',\n",
       " 'chr17',\n",
       " 'chr18',\n",
       " 'chr19',\n",
       " 'chr20',\n",
       " 'chr21',\n",
       " 'chr22',\n",
       " 'chrX',\n",
       " 'chrY',\n",
       " 'total']"
      ]
     },
     "execution_count": 54,
     "metadata": {},
     "output_type": "execute_result"
    }
   ],
   "source": [
    "chr_n = ['chr' + str(i) for i in range(1, 23)] + ['chrX', 'chrY', 'total']\n",
    "chr_n"
   ]
  },
  {
   "cell_type": "code",
   "execution_count": null,
   "metadata": {},
   "outputs": [],
   "source": []
  }
 ],
 "metadata": {
  "kernelspec": {
   "display_name": "Python 3.9.12 ('base')",
   "language": "python",
   "name": "python3"
  },
  "language_info": {
   "codemirror_mode": {
    "name": "ipython",
    "version": 3
   },
   "file_extension": ".py",
   "mimetype": "text/x-python",
   "name": "python",
   "nbconvert_exporter": "python",
   "pygments_lexer": "ipython3",
   "version": "3.9.12"
  },
  "orig_nbformat": 4,
  "vscode": {
   "interpreter": {
    "hash": "49cb93f377a7abe7414b7b0f21fb3017538004a126cf690fb524202736b7fb92"
   }
  }
 },
 "nbformat": 4,
 "nbformat_minor": 2
}
