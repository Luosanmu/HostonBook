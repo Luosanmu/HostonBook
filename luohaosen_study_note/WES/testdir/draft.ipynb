{
 "cells": [
  {
   "cell_type": "code",
   "execution_count": 13,
   "metadata": {
    "collapsed": true
   },
   "outputs": [
    {
     "name": "stdout",
     "output_type": "stream",
     "text": [
      "Helelo, world\n"
     ]
    }
   ],
   "source": [
    "print(\"Helelo, world\")"
   ]
  },
  {
   "cell_type": "code",
   "execution_count": 14,
   "metadata": {},
   "outputs": [
    {
     "name": "stdout",
     "output_type": "stream",
     "text": [
      "The test is right!\n"
     ]
    }
   ],
   "source": [
    "import re\n",
    "import configparser\n",
    "import os\n",
    "\n",
    "pe_sample_path_1 = 'asdoiajs.gz'\n",
    "pe_sample_path_2 = 'sawqerwfgf.fastq'\n",
    "rule_format = ('.gz', '.fq', '.fastq.gz', '.fastq')\n",
    "if pe_sample_path_1.endswith(rule_format) and pe_sample_path_2.endswith(rule_format):\n",
    "    print(\"The test is right!\")"
   ]
  },
  {
   "cell_type": "code",
   "execution_count": 3,
   "metadata": {},
   "outputs": [
    {
     "name": "stdout",
     "output_type": "stream",
     "text": [
      "/ifs1/home/luohaosen/project/WES/java_tmp/\n"
     ]
    }
   ],
   "source": [
    "result_dir = '/ifs1/home/luohaosen/project/WES/result/'\n",
    "tmp_dir = '/'.join(result_dir.split('/')[:-2]) + '/java_tmp/'\n",
    "print(tmp_dir)"
   ]
  },
  {
   "cell_type": "code",
   "execution_count": 16,
   "metadata": {},
   "outputs": [
    {
     "name": "stdout",
     "output_type": "stream",
     "text": [
      "c:\\Users\\10291\\OneDrive\\WES\n"
     ]
    }
   ],
   "source": [
    "# os.getcwd() == __file__ but jupyter not recognize\n",
    "Bn = os.path.dirname(os.getcwd())\n",
    "print(Bn)"
   ]
  },
  {
   "cell_type": "code",
   "execution_count": 17,
   "metadata": {},
   "outputs": [
    {
     "name": "stdout",
     "output_type": "stream",
     "text": [
      "k is /ifs1/reads/sample-01.fq.gz\n"
     ]
    }
   ],
   "source": [
    "k = \"/ifs1/reads/sample-01.fq.gz\"\n",
    "sample = \"/ifs1/reads/\"\n",
    "print(f\"k is {k}\")"
   ]
  },
  {
   "cell_type": "code",
   "execution_count": 18,
   "metadata": {},
   "outputs": [
    {
     "name": "stdout",
     "output_type": "stream",
     "text": [
      "sample_dir is /ifs1/reads\n",
      "test2 is /ifs1/reads/\n"
     ]
    }
   ],
   "source": [
    "sample_dir = '/'.join(sample.split('/')[:-1])\n",
    "test_2 = '/'.join(k.split('/')[:-1]) + '/'\n",
    "print(f\"sample_dir is {sample_dir}\")\n",
    "print(f\"test2 is {test_2}\")"
   ]
  },
  {
   "cell_type": "code",
   "execution_count": 20,
   "metadata": {},
   "outputs": [
    {
     "name": "stdout",
     "output_type": "stream",
     "text": [
      "k's basename is sample-01.fq.gz\n",
      "k's basename no suffix is sample-01 \n"
     ]
    }
   ],
   "source": [
    "print(f\"k's basename is {os.path.basename(k)}\")\n",
    "print(f\"k's basename no suffix is {k.split('/')[-1].split('.')[0]} \")"
   ]
  },
  {
   "cell_type": "code",
   "execution_count": 28,
   "metadata": {},
   "outputs": [
    {
     "name": "stdout",
     "output_type": "stream",
     "text": [
      "PE\n",
      "########## \n",
      " /ifs1/reads/sample-01.fq.gz\n"
     ]
    }
   ],
   "source": [
    "mode = 'pe'\n",
    "pattern = re.compile(r'pe|se', re.I)\n",
    "if re.search(pattern, mode):\n",
    "    print(mode.upper())\n",
    "else:\n",
    "    raise Exception(\"The mode must be pe\")\n",
    "\n",
    "if k.endswith(('.gz', '.fq', '.fastq.gz', '.fastq')):\n",
    "    print(\"#\" * 10, '\\n', k)"
   ]
  },
  {
   "cell_type": "code",
   "execution_count": 31,
   "metadata": {},
   "outputs": [
    {
     "name": "stdout",
     "output_type": "stream",
     "text": [
      "hello world\n",
      "hello python\n"
     ]
    }
   ],
   "source": [
    "class Foo(object):\n",
    "    @classmethod\n",
    "    def cls_fun(cls):\n",
    "        return \"hello world\"\n",
    "\n",
    "    @staticmethod\n",
    "    def static_fun():\n",
    "        return \"hello python\"\n",
    "\n",
    "\n",
    "foo = Foo()\n",
    "print(Foo.cls_fun())\n",
    "# print(foo.cls_fun())\n",
    "print(Foo.static_fun())"
   ]
  },
  {
   "cell_type": "code",
   "execution_count": 30,
   "metadata": {},
   "outputs": [
    {
     "name": "stdout",
     "output_type": "stream",
     "text": [
      "df_hello\n",
      "df_world\n",
      "df_my\n",
      "df_name\n",
      "df_Hoston\n"
     ]
    }
   ],
   "source": [
    "for i in range(5):\n",
    "    locals()[\"df_{i}\"] = i\n",
    "\n",
    "list_str = ['hello', 'world', 'my', 'name', 'Hoston']\n",
    "for i in list_str:\n",
    "    print(f\"df_{i}\")"
   ]
  },
  {
   "cell_type": "code",
   "execution_count": 3,
   "metadata": {},
   "outputs": [
    {
     "name": "stdout",
     "output_type": "stream",
     "text": [
      "/ifs1/home/luohaosen/project/WES/result/shell/\n"
     ]
    }
   ],
   "source": [
    "result_dir = '/ifs1/home/luohaosen/project/WES/result/'\n",
    "combine_list = '/'.join(result_dir.split('/')[:-1]) + '/shell/'\n",
    "print(combine_list)"
   ]
  },
  {
   "cell_type": "code",
   "execution_count": 1,
   "metadata": {},
   "outputs": [
    {
     "name": "stdout",
     "output_type": "stream",
     "text": [
      "/ifs1/home/luohaosen/project/WES/result/final_combine.g.vcf\n"
     ]
    }
   ],
   "source": [
    "result_dir = '/ifs1/home/luohaosen/project/WES/result/'\n",
    "final_combine_g_vcf_path = '/'.join(result_dir.split('/')[:-1]) + '/final_combine.g.vcf'\n",
    "final_combine_g_vcf_path = '/'.join(result_dir.split('/')[:-1]) + '/final_combine.g.vcf'\n",
    "print(final_combine_g_vcf_path)"
   ]
  },
  {
   "cell_type": "code",
   "execution_count": 9,
   "metadata": {},
   "outputs": [
    {
     "name": "stdout",
     "output_type": "stream",
     "text": [
      "/ifs1/home/luohaosen/project/WES/result/YF/YF.raw.vcf\n"
     ]
    }
   ],
   "source": [
    "vcf_input = '/ifs1/home/luohaosen/project/WES/result/YF/YF.raw.vcf'\n",
    "if vcf_input.endswith('.raw.vcf'):\n",
    "    # vcf_file_name = /path/final.raw.vcf  |  /path/result/sample_name.raw.vcf\n",
    "    vcf = vcf_input\n",
    "print(vcf)"
   ]
  },
  {
   "cell_type": "code",
   "execution_count": 12,
   "metadata": {},
   "outputs": [
    {
     "name": "stdout",
     "output_type": "stream",
     "text": [
      "/ifs1/home/luohaosen/project/WES\n",
      "['', 'ifs1', 'home', 'luohaosen', 'project', 'WES']\n",
      "['', 'ifs1', 'home', 'luohaosen', 'project', 'WES', 'result']\n"
     ]
    }
   ],
   "source": [
    "result_input = '/ifs1/home/luohaosen/project/WES/result/'\n",
    "new = '/'.join(result_dir.split('/')[:-2])\n",
    "print(new)\n",
    "print(result_dir.split('/')[:-2])\n",
    "print(result_dir.split('/')[:-1])"
   ]
  },
  {
   "cell_type": "code",
   "execution_count": 15,
   "metadata": {},
   "outputs": [
    {
     "name": "stdout",
     "output_type": "stream",
     "text": [
      "/ifs1/data/WES/YF_hearingloss/\n",
      "YF22051201-07.fq.gz\n"
     ]
    }
   ],
   "source": [
    "sample = '/ifs1/data/WES/YF_hearingloss/YF22051201-07.fq.gz'\n",
    "sample_dir = '/'.join(sample.split('/')[:-1]) + '/'\n",
    "print(sample_dir)\n",
    "print(os.path.basename(sample))"
   ]
  },
  {
   "cell_type": "code",
   "execution_count": null,
   "metadata": {},
   "outputs": [],
   "source": []
  }
 ],
 "metadata": {
  "kernelspec": {
   "display_name": "Python 3.9.12 ('data_analysis')",
   "language": "python",
   "name": "python3"
  },
  "language_info": {
   "codemirror_mode": {
    "name": "ipython",
    "version": 3
   },
   "file_extension": ".py",
   "mimetype": "text/x-python",
   "name": "python",
   "nbconvert_exporter": "python",
   "pygments_lexer": "ipython3",
   "version": "3.9.12"
  },
  "vscode": {
   "interpreter": {
    "hash": "7328ad6c186427d09479d44aea20e79bdb292dbec724364354307e42c7bb5f03"
   }
  }
 },
 "nbformat": 4,
 "nbformat_minor": 0
}
